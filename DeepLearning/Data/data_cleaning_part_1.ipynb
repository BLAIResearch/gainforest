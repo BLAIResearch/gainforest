{
 "cells": [
  {
   "cell_type": "markdown",
   "metadata": {},
   "source": [
    "# Image Analysis"
   ]
  },
  {
   "cell_type": "code",
   "execution_count": 1,
   "metadata": {
    "collapsed": true
   },
   "outputs": [],
   "source": [
    "from skimage import io\n",
    "from skimage.transform import rescale\n",
    "%matplotlib inline"
   ]
  },
  {
   "cell_type": "code",
   "execution_count": null,
   "metadata": {},
   "outputs": [
    {
     "name": "stderr",
     "output_type": "stream",
     "text": [
      "/Users/David/anaconda3/envs/pycon/lib/python3.6/site-packages/skimage/external/tifffile/tifffile.py:2573: RuntimeWarning: py_decodelzw encountered unexpected end of stream\n",
      "  tile = decompress(tile)\n",
      "/Users/David/anaconda3/envs/pycon/lib/python3.6/site-packages/skimage/external/tifffile/tifffile.py:2579: UserWarning: invalid tile data\n",
      "  warnings.warn(\"invalid tile data\")\n",
      "/Users/David/anaconda3/envs/pycon/lib/python3.6/site-packages/skimage/transform/_warps.py:84: UserWarning: The default mode, 'constant', will be changed to 'reflect' in skimage 0.15.\n",
      "  warn(\"The default mode, 'constant', will be changed to 'reflect' in \"\n"
     ]
    }
   ],
   "source": [
    "#img = io.imread(\"/Users/David/Desktop/hack4climate/Hansen_GFC2013_lossyear_10S_060W.tif\")\n",
    "img2 = io.imread(\"/Users/David/Desktop/hack4climate/brazil_conf2016.tif\")\n",
    "\n",
    "img_rescale = rescale(img2, 1.0/100.0)"
   ]
  },
  {
   "cell_type": "code",
   "execution_count": null,
   "metadata": {
    "collapsed": true
   },
   "outputs": [],
   "source": [
    "io.imshow(img2)"
   ]
  },
  {
   "cell_type": "markdown",
   "metadata": {},
   "source": [
    "# Generate URLs for download"
   ]
  },
  {
   "cell_type": "code",
   "execution_count": null,
   "metadata": {
    "collapsed": true
   },
   "outputs": [],
   "source": [
    "search_string = \"http://commondatastorage.googleapis.com/earthenginepartners-hansen/GFC2013/Hansen_GFC2013_lossyear_{}_{}.tif\"\n",
    "\n",
    "\n",
    "\n",
    "for i in []:\n",
    "    for j in range():\n",
    "        search_string.format(i, j)"
   ]
  },
  {
   "cell_type": "code",
   "execution_count": null,
   "metadata": {
    "collapsed": true
   },
   "outputs": [],
   "source": [
    "# create the longitudinal coordinates\n",
    "\n",
    "Nli = list()\n",
    "Sli = list()\n",
    "\n",
    "for i in range(0,140,10):\n",
    "    \n",
    "    Nli.append(\"{0:02d}{1:}\".format(abs(80 - i), \"N\"))\n",
    "    Sli.append(\"{0:02d}{1:}\".format(abs(80 - i), \"S\"))\n",
    "\n",
    "print(Nli[:-5])\n",
    "print(Sli[-5:])\n",
    "\n",
    "lo = Nli[:-5] + Sli[-5:]\n",
    "print(lo)"
   ]
  },
  {
   "cell_type": "code",
   "execution_count": null,
   "metadata": {
    "collapsed": true
   },
   "outputs": [],
   "source": [
    "# create the latitudinal coordinates\n",
    "\n",
    "Wli = list()\n",
    "Eli = list()\n",
    "\n",
    "for i in range(0,360,10):\n",
    "    \n",
    "    Wli.append(\"{0:03d}{1:}\".format(abs(180 - i), \"W\"))\n",
    "    Eli.append(\"{0:03d}{1:}\".format(abs(180 - i), \"E\"))\n",
    "\n",
    "print(Wli[:-18])\n",
    "print(Eli[-18:])\n",
    "\n",
    "lat = Wli[:-18] + Eli[-18:]\n",
    "print(lat)"
   ]
  },
  {
   "cell_type": "code",
   "execution_count": null,
   "metadata": {
    "collapsed": true
   },
   "outputs": [],
   "source": [
    "lo = ['80N', '70N', '60N', '50N', '40N', '30N', '20N', '10N', '00N', '10S', '20S', '30S', '40S', '50S']\n",
    "lat = ['180W', '170W', '160W', '150W', '140W', '130W', '120W', '110W', '100W', '090W', '080W', '070W', '060W', '050W', '040W', '030W', '020W', '010W', '000E', '010E', '020E', '030E', '040E', '050E', '060E', '070E', '080E', '090E', '100E', '110E', '120E', '130E', '140E', '150E', '160E', '170E']\n",
    "search_string = \"http://commondatastorage.googleapis.com/earthenginepartners-hansen/GFC2013/Hansen_GFC2013_lossyear_{}_{}.tif\""
   ]
  },
  {
   "cell_type": "code",
   "execution_count": null,
   "metadata": {
    "collapsed": true
   },
   "outputs": [],
   "source": [
    "for i in lo:\n",
    "    for j in lat:\n",
    "        print(search_string.format(i,j))\n",
    "        \n",
    "        break"
   ]
  },
  {
   "cell_type": "markdown",
   "metadata": {
    "collapsed": true
   },
   "source": [
    "# Extract pngs from gif"
   ]
  },
  {
   "cell_type": "code",
   "execution_count": 84,
   "metadata": {
    "collapsed": true
   },
   "outputs": [],
   "source": [
    "from glob import glob\n",
    "import os"
   ]
  },
  {
   "cell_type": "code",
   "execution_count": 166,
   "metadata": {},
   "outputs": [
    {
     "data": {
      "text/plain": [
       "5"
      ]
     },
     "execution_count": 166,
     "metadata": {},
     "output_type": "execute_result"
    }
   ],
   "source": [
    "list_gifs = glob(\"/Users/David/Desktop/demo_data/gifs/*\")\n",
    "len(list_gifs)"
   ]
  },
  {
   "cell_type": "code",
   "execution_count": 167,
   "metadata": {},
   "outputs": [
    {
     "name": "stdout",
     "output_type": "stream",
     "text": [
      "[['Nov-14-2017-22-44-48'], ['Nov-14-2017-22-46-39'], ['Nov-14-2017-22-48-19'], ['Nov-14-2017-22-50-23'], ['Nov-14-2017-22-53-11']]\n"
     ]
    }
   ],
   "source": [
    "file_names =[x.split(\"/\")[-1].split(\".\")[:-1] for x in list_gifs]\n",
    "\n",
    "base_path = \"/Users/David/Desktop/demo_data/folders/\"\n",
    "print(file_names)"
   ]
  },
  {
   "cell_type": "code",
   "execution_count": 168,
   "metadata": {},
   "outputs": [],
   "source": [
    "# convert them into folders\n",
    "for el in list_gifs:\n",
    "    file_name = el.split(\"/\")[-1].split(\".\")[0]\n",
    "    target_path = base_path + file_name\n",
    "    if not os.path.exists(target_path):\n",
    "        os.makedirs(target_path)\n",
    "    os.system(\"convert -verbose -coalesce {} {}\".format(el, target_path + \"/\" + file_name + \".png\"))"
   ]
  },
  {
   "cell_type": "code",
   "execution_count": 159,
   "metadata": {
    "collapsed": true
   },
   "outputs": [],
   "source": [
    "for el in list_gifs:\n",
    "    file_name = el.split(\"/\")[-1].split(\".\")[0]\n",
    "    os.system(\"convert -verbose -coalesce {} {}\".format(el, target_path + \"/\" + file_name + \".png\"))"
   ]
  },
  {
   "cell_type": "code",
   "execution_count": 81,
   "metadata": {},
   "outputs": [],
   "source": [
    "images = glob(\"/Users/David/Desktop/tree_data/sequences/*\")"
   ]
  },
  {
   "cell_type": "code",
   "execution_count": 83,
   "metadata": {},
   "outputs": [
    {
     "data": {
      "text/plain": [
       "5532"
      ]
     },
     "execution_count": 83,
     "metadata": {},
     "output_type": "execute_result"
    }
   ],
   "source": [
    "len(images)"
   ]
  },
  {
   "cell_type": "markdown",
   "metadata": {},
   "source": [
    "# Resort the sequences into folders"
   ]
  },
  {
   "cell_type": "code",
   "execution_count": 104,
   "metadata": {},
   "outputs": [],
   "source": [
    "import shutil\n",
    "for im in images:\n",
    "    folder_name = im.split(\"/\")[-1].split(\"-\")[:-1]\n",
    "    folder_name = \"-\".join(folder_name)\n",
    "    shutil.move(im, \"/Users/David/Desktop/tree_data/folders/{}/\".format(folder_name))"
   ]
  },
  {
   "cell_type": "code",
   "execution_count": 111,
   "metadata": {
    "collapsed": true
   },
   "outputs": [],
   "source": [
    "from PIL import Image"
   ]
  },
  {
   "cell_type": "code",
   "execution_count": 122,
   "metadata": {},
   "outputs": [],
   "source": [
    "import numpy as np\n",
    "im = Image.open(\"/Users/David/Desktop/low_res/tree_data/folders/Nov-14-2017-17-51-44/Nov-14-2017-17-51-44-103.png\").convert('RGB')"
   ]
  },
  {
   "cell_type": "code",
   "execution_count": 124,
   "metadata": {},
   "outputs": [
    {
     "data": {
      "text/plain": [
       "(500, 500, 3)"
      ]
     },
     "execution_count": 124,
     "metadata": {},
     "output_type": "execute_result"
    }
   ],
   "source": [
    "np.array(im).shape"
   ]
  },
  {
   "cell_type": "markdown",
   "metadata": {},
   "source": [
    "# Order to numerical order"
   ]
  },
  {
   "cell_type": "code",
   "execution_count": 179,
   "metadata": {},
   "outputs": [
    {
     "name": "stdout",
     "output_type": "stream",
     "text": [
      "['/Users/David/Desktop/filtered/Train/Nov-14-2017-14-11-53', '/Users/David/Desktop/filtered/Train/Nov-14-2017-14-12-36', '/Users/David/Desktop/filtered/Train/Nov-14-2017-14-12-55', '/Users/David/Desktop/filtered/Train/Nov-14-2017-14-13-13', '/Users/David/Desktop/filtered/Train/Nov-14-2017-14-13-35', '/Users/David/Desktop/filtered/Train/Nov-14-2017-14-13-53', '/Users/David/Desktop/filtered/Train/Nov-14-2017-14-14-13', '/Users/David/Desktop/filtered/Train/Nov-14-2017-14-14-33', '/Users/David/Desktop/filtered/Train/Nov-14-2017-14-16-47', '/Users/David/Desktop/filtered/Train/Nov-14-2017-14-17-07', '/Users/David/Desktop/filtered/Train/Nov-14-2017-14-17-24', '/Users/David/Desktop/filtered/Train/Nov-14-2017-14-17-41', '/Users/David/Desktop/filtered/Train/Nov-14-2017-14-18-00', '/Users/David/Desktop/filtered/Train/Nov-14-2017-14-18-20', '/Users/David/Desktop/filtered/Train/Nov-14-2017-14-18-40', '/Users/David/Desktop/filtered/Train/Nov-14-2017-14-19-02', '/Users/David/Desktop/filtered/Train/Nov-14-2017-14-19-24', '/Users/David/Desktop/filtered/Train/Nov-14-2017-14-19-44', '/Users/David/Desktop/filtered/Train/Nov-14-2017-14-20-06', '/Users/David/Desktop/filtered/Train/Nov-14-2017-14-20-27', '/Users/David/Desktop/filtered/Train/Nov-14-2017-14-20-49', '/Users/David/Desktop/filtered/Train/Nov-14-2017-14-21-25', '/Users/David/Desktop/filtered/Train/Nov-14-2017-14-21-44', '/Users/David/Desktop/filtered/Train/Nov-14-2017-17-51-17', '/Users/David/Desktop/filtered/Train/Nov-14-2017-17-51-44', '/Users/David/Desktop/filtered/Train/Nov-14-2017-17-52-20', '/Users/David/Desktop/filtered/Train/Nov-14-2017-17-52-41', '/Users/David/Desktop/filtered/Train/Nov-14-2017-17-53-17', '/Users/David/Desktop/filtered/Train/Nov-14-2017-17-53-38', '/Users/David/Desktop/filtered/Train/Nov-14-2017-17-53-58', '/Users/David/Desktop/filtered/Train/Nov-14-2017-17-54-16', '/Users/David/Desktop/filtered/Train/Nov-14-2017-17-54-45', '/Users/David/Desktop/filtered/Train/Nov-14-2017-17-58-08', '/Users/David/Desktop/filtered/Train/Nov-14-2017-17-58-29', '/Users/David/Desktop/filtered/Train/Nov-14-2017-18-45-01', '/Users/David/Desktop/filtered/Train/Nov-14-2017-18-45-37', '/Users/David/Desktop/filtered/Train/Nov-14-2017-18-45-57', '/Users/David/Desktop/filtered/Train/Nov-14-2017-18-46-20', '/Users/David/Desktop/filtered/Train/Nov-14-2017-18-46-39', '/Users/David/Desktop/filtered/Train/Nov-14-2017-18-46-59', '/Users/David/Desktop/filtered/Train/Nov-14-2017-18-47-20', '/Users/David/Desktop/filtered/Train/Nov-14-2017-18-47-42', '/Users/David/Desktop/filtered/Train/Nov-14-2017-18-48-05', '/Users/David/Desktop/filtered/Train/Nov-14-2017-18-48-29', '/Users/David/Desktop/filtered/Train/Nov-14-2017-18-48-55', '/Users/David/Desktop/filtered/Train/Nov-14-2017-18-49-17']\n",
      "46\n"
     ]
    }
   ],
   "source": [
    "folder_paths = glob(\"/Users/David/Desktop/filtered/Train/*\")\n",
    "print(folder_paths)\n",
    "print(len(folder_paths))"
   ]
  },
  {
   "cell_type": "code",
   "execution_count": 177,
   "metadata": {},
   "outputs": [],
   "source": [
    "# Fix the order from alphabetically to numerical\n",
    "for folder in folder_paths:\n",
    "    im_paths = glob(\"{}/*\".format(folder))\n",
    "    for im in im_paths:\n",
    "        file_name = im.split(\"/\")[-1].split(\".\")[0]\n",
    "        tmp = file_name.split(\"-\")\n",
    "        tmp[-1] = \"{:03}\".format(int(tmp[-1]))\n",
    "        name = \"-\".join(tmp)\n",
    "        new_path = \"/\".join(im.split(\"/\")[:-1]) + \"/\" + name + \".png\"\n",
    "        shutil.move(im, new_path)"
   ]
  },
  {
   "cell_type": "markdown",
   "metadata": {},
   "source": [
    "# Resize images"
   ]
  },
  {
   "cell_type": "code",
   "execution_count": 197,
   "metadata": {},
   "outputs": [
    {
     "name": "stdout",
     "output_type": "stream",
     "text": [
      "/Users/David/Desktop/filtered_200x200/Test/Nov-14-2017-22-44-48 22\n",
      "/Users/David/Desktop/filtered_200x200/Test/Nov-14-2017-22-46-39 80\n",
      "/Users/David/Desktop/filtered_200x200/Test/Nov-14-2017-22-48-19 69\n",
      "/Users/David/Desktop/filtered_200x200/Test/Nov-14-2017-22-50-23 85\n",
      "/Users/David/Desktop/filtered_200x200/Test/Nov-14-2017-22-53-11 89\n"
     ]
    }
   ],
   "source": [
    "folders = glob(\"/Users/David/Desktop/filtered_200x200/Test/*\")\n",
    "for f in folders:\n",
    "    im_paths = glob(\"{}/*\".format(f))\n",
    "    print(f, len(im_paths))\n",
    "        #os.system(\"convert  {} -resize 200x200 {}\".format(im, im))\n",
    "#         import PIL\n",
    "#         if(np.array(PIL.Image.open(im)).shape[1] != 128):\n",
    "#             print(\"What!\")"
   ]
  },
  {
   "cell_type": "code",
   "execution_count": null,
   "metadata": {
    "collapsed": true
   },
   "outputs": [],
   "source": []
  }
 ],
 "metadata": {
  "kernelspec": {
   "display_name": "Python [conda env:pycon]",
   "language": "python",
   "name": "conda-env-pycon-py"
  },
  "language_info": {
   "codemirror_mode": {
    "name": "ipython",
    "version": 3
   },
   "file_extension": ".py",
   "mimetype": "text/x-python",
   "name": "python",
   "nbconvert_exporter": "python",
   "pygments_lexer": "ipython3",
   "version": "3.6.3"
  }
 },
 "nbformat": 4,
 "nbformat_minor": 2
}
